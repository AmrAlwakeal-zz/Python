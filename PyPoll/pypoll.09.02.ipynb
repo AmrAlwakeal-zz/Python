{
 "cells": [
  {
   "cell_type": "code",
   "execution_count": 75,
   "metadata": {},
   "outputs": [],
   "source": [
    "import csv\n",
    "import os"
   ]
  },
  {
   "cell_type": "code",
   "execution_count": 76,
   "metadata": {},
   "outputs": [],
   "source": [
    "election = \"python_challenge/PyPoll/Resources/Resources/election_data.csv\""
   ]
  },
  {
   "cell_type": "code",
   "execution_count": null,
   "metadata": {},
   "outputs": [],
   "source": []
  },
  {
   "cell_type": "code",
   "execution_count": 77,
   "metadata": {},
   "outputs": [],
   "source": [
    "# Variables\n",
    "voter = []\n",
    "county = []\n",
    "candidate_list = []\n",
    "total_votes = 0\n",
    "count = 0\n",
    "freq = {}\n",
    "khan = []"
   ]
  },
  {
   "cell_type": "code",
   "execution_count": 78,
   "metadata": {},
   "outputs": [],
   "source": [
    "# open file and iteration\n",
    "with open(election, 'r') as csvfile:\n",
    "    csv_read = csv.reader(csvfile, delimiter=',')\n",
    "    csv_header = next(csv_read)\n",
    "    for row in csv_read:\n",
    "        # append columns into lists\n",
    "        voter.append(row[0])\n",
    "        county.append(row[1])\n",
    "        candidate_list.append(row[2])\n",
    "        # total votes\n",
    "        total_votes +=1\n",
    "        # getting candidates and number of votes\n",
    "       "
   ]
  },
  {
   "cell_type": "code",
   "execution_count": 79,
   "metadata": {},
   "outputs": [
    {
     "name": "stdout",
     "output_type": "stream",
     "text": [
      "{'Khan': 2218231, 'Correy': 704200, 'Li': 492940, \"O'Tooley\": 105630}\n"
     ]
    }
   ],
   "source": [
    "for candidate in candidate_list:\n",
    "            if (candidate in freq):\n",
    "                freq[candidate] +=1\n",
    "            else:\n",
    "                freq[candidate] = 1\n",
    "            # getting percentage for each candidate\n",
    "print(freq)"
   ]
  },
  {
   "cell_type": "code",
   "execution_count": 80,
   "metadata": {},
   "outputs": [],
   "source": [
    "khan= []\n",
    "correy = []\n",
    "li = []\n",
    "otooley = []\n",
    "khan = freq['Khan']\n",
    "correy = freq['Correy']\n",
    "li = freq['Li']\n",
    "otooley = freq[\"O'Tooley\"]\n"
   ]
  },
  {
   "cell_type": "code",
   "execution_count": 81,
   "metadata": {},
   "outputs": [
    {
     "name": "stdout",
     "output_type": "stream",
     "text": [
      "3521001\n"
     ]
    }
   ],
   "source": [
    "print(str(total_votes))"
   ]
  },
  {
   "cell_type": "code",
   "execution_count": 82,
   "metadata": {},
   "outputs": [
    {
     "name": "stdout",
     "output_type": "stream",
     "text": [
      "2218231\n"
     ]
    }
   ],
   "source": [
    "print(khan)"
   ]
  },
  {
   "cell_type": "code",
   "execution_count": 85,
   "metadata": {},
   "outputs": [
    {
     "name": "stdout",
     "output_type": "stream",
     "text": [
      "Election Results\n",
      "---------------------------------\n",
      "Total votes: 3521001\n",
      "----------------------------------\n",
      "Khan: 63.0% 2218231\n",
      "Correy: 20.0% 704200\n",
      "Li: 14.0% 492940 \n",
      "O'Tooley:3.0% 105630\n",
      "------------------------------------\n",
      "Winner: Khan\n",
      "-------------------------------------\n",
      "\n"
     ]
    }
   ],
   "source": [
    "result = (\n",
    "    \"Election Results\\n\"\n",
    "    \"---------------------------------\\n\"\n",
    "    f\"Total votes: {total_votes}\\n\"\n",
    "    \"----------------------------------\\n\"\n",
    "    f\"Khan: {round(khan/total_votes * 100, 2)}% {khan}\\n\"\n",
    "    f\"Correy: {round(correy / total_votes * 100, 2)}% {correy}\\n\"\n",
    "    f\"Li: {round(li / total_votes * 100, 2)}% {li} \\n\"\n",
    "    f\"O'Tooley:{round(otooley / total_votes * 100, 2)}% {otooley}\\n\"\n",
    "    \"------------------------------------\\n\"\n",
    "    f\"Winner: Khan\\n\"\n",
    "    \"-------------------------------------\\n\"\n",
    ")\n",
    "print(result)"
   ]
  },
  {
   "cell_type": "code",
   "execution_count": null,
   "metadata": {},
   "outputs": [],
   "source": [
    "# export into text file \n",
    "pypoll = open (\"python_challenge/PyPoll/analysis/pypoll.txt\", \"w\")\n",
    "pypoll.write(result)\n",
    "pypoll.close()"
   ]
  }
 ],
 "metadata": {
  "kernelspec": {
   "display_name": "Python 3",
   "language": "python",
   "name": "python3"
  },
  "language_info": {
   "codemirror_mode": {
    "name": "ipython",
    "version": 3
   },
   "file_extension": ".py",
   "mimetype": "text/x-python",
   "name": "python",
   "nbconvert_exporter": "python",
   "pygments_lexer": "ipython3",
   "version": "3.7.7"
  }
 },
 "nbformat": 4,
 "nbformat_minor": 4
}
